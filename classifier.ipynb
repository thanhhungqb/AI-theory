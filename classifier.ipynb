{
 "cells": [
  {
   "cell_type": "code",
   "execution_count": 116,
   "metadata": {},
   "outputs": [],
   "source": [
    "import numpy as np\n",
    "import cv2 as cv\n",
    "import pandas as pd\n",
    "from matplotlib import pyplot as plt\n",
    "from sklearn.cluster import KMeans\n",
    "from sklearn import preprocessing\n",
    "from utils import *\n",
    "\n",
    "import sklearn\n",
    "from sklearn.feature_extraction.text import TfidfVectorizer\n",
    "from sklearn.pipeline import Pipeline\n",
    "from sklearn.metrics import classification_report, confusion_matrix\n",
    "from sklearn.model_selection import train_test_split\n",
    "from sklearn.feature_selection import SelectKBest, chi2\n",
    "from sklearn.ensemble import RandomForestClassifier\n",
    "\n",
    "from sklearn.feature_extraction.text import CountVectorizer\n",
    "from sklearn.feature_extraction.text import TfidfTransformer\n",
    "\n",
    "from sklearn.naive_bayes import MultinomialNB\n",
    "\n",
    "from gensim.test.utils import common_corpus, common_dictionary\n",
    "from gensim.corpora import Dictionary\n",
    "from gensim.models import HdpModel\n",
    "from gensim import matutils"
   ]
  },
  {
   "cell_type": "code",
   "execution_count": 30,
   "metadata": {},
   "outputs": [],
   "source": [
    "bp = \"/home/hung/ws/data1/raf-db\"\n",
    "df = pd.read_csv(\"{}/data_aligned.csv\".format(bp))\n",
    "df_train = df.loc[df['name'].str.contains('train_')]\n",
    "df_test = df.loc[df['name'].str.contains('test_')]\n",
    "fname_train = [\"{}/{}\".format(bp, o) for o in df_train['name']]\n",
    "fname_test = [\"{}/{}\".format(bp, o) for o in df_test['name']]\n",
    "labels_train = [o for o in df_train['label']]\n",
    "labels_test = [o for o in df_test['label']]"
   ]
  },
  {
   "cell_type": "code",
   "execution_count": 31,
   "metadata": {},
   "outputs": [],
   "source": [
    "vocab = Vocab('suft.100.train.norml2.npy', 'sift.100.train.norml2.npy', 'kaze.100.train.norml2.npy')"
   ]
  },
  {
   "cell_type": "code",
   "execution_count": 62,
   "metadata": {},
   "outputs": [],
   "source": [
    "def build_docs(fname_list, labels):\n",
    "    docs, targets = [], []\n",
    "    for fname, label in zip(fname_list, labels):\n",
    "        try:\n",
    "            out = list(vocab.query_id(fname))\n",
    "            ids = [o for _,o in out]\n",
    "            docs.append(ids)\n",
    "            targets.append(label)\n",
    "        except: pass # some error file\n",
    "    return docs, np.array(targets)\n",
    "\n",
    "def ff(fname_train, labels_train):\n",
    "    train_docs, train_targets = build_docs(fname_train, labels_train)\n",
    "    train_docs_str = [' '.join([str(a) for a in o]) for o in train_docs]\n",
    "\n",
    "    count_vect = CountVectorizer()\n",
    "    X_train_counts = count_vect.fit_transform(train_docs_str)  \n",
    "    \n",
    "    tf_transformer = TfidfTransformer(use_idf=True).fit(X_train_counts)\n",
    "    X_train_tf = tf_transformer.transform(X_train_counts)\n",
    "    \n",
    "    return X_train_tf, train_targets\n",
    "\n",
    "def pre_processing():\n",
    "    # train\n",
    "    X_train_tf, train_targets = ff(fname_train, labels_train)\n",
    "    # test\n",
    "    X_test_tf, test_targets = ff(fname_test, labels_test)\n",
    "    return X_train_tf, train_targets, X_test_tf, test_targets"
   ]
  },
  {
   "cell_type": "code",
   "execution_count": 12,
   "metadata": {},
   "outputs": [
    {
     "data": {
      "text/plain": [
       "(12223, 31276)"
      ]
     },
     "execution_count": 12,
     "metadata": {},
     "output_type": "execute_result"
    }
   ],
   "source": [
    "# vectorizer = TfidfVectorizer(min_df= 3, sublinear_tf=True, norm='l2', ngram_range=(1, 2))\n",
    "# final_features = vectorizer.fit_transform(out1).toarray()\n",
    "# final_features.shape"
   ]
  },
  {
   "cell_type": "code",
   "execution_count": 63,
   "metadata": {},
   "outputs": [],
   "source": [
    "X_train_tf, train_targets, X_test_tf, test_targets = pre_processing()"
   ]
  },
  {
   "cell_type": "markdown",
   "metadata": {},
   "source": [
    "### NB"
   ]
  },
  {
   "cell_type": "code",
   "execution_count": 64,
   "metadata": {},
   "outputs": [],
   "source": [
    "clf = MultinomialNB().fit(X_train_tf, train_targets)"
   ]
  },
  {
   "cell_type": "code",
   "execution_count": 66,
   "metadata": {},
   "outputs": [],
   "source": [
    "predicted = clf.predict(X_test_tf)"
   ]
  },
  {
   "cell_type": "code",
   "execution_count": 67,
   "metadata": {},
   "outputs": [
    {
     "data": {
      "text/plain": [
       "0.4181639986932375"
      ]
     },
     "execution_count": 67,
     "metadata": {},
     "output_type": "execute_result"
    }
   ],
   "source": [
    "np.mean(predicted == test_targets)  "
   ]
  },
  {
   "cell_type": "markdown",
   "metadata": {},
   "source": [
    "### SVM"
   ]
  },
  {
   "cell_type": "code",
   "execution_count": 130,
   "metadata": {},
   "outputs": [],
   "source": [
    "clf1 = sklearn.svm.SVC(gamma='scale', coef0=4).fit(X_train_tf, train_targets)"
   ]
  },
  {
   "cell_type": "code",
   "execution_count": 131,
   "metadata": {},
   "outputs": [],
   "source": [
    "predicted = clf1.predict(X_test_tf)"
   ]
  },
  {
   "cell_type": "code",
   "execution_count": 132,
   "metadata": {},
   "outputs": [
    {
     "data": {
      "text/plain": [
       "0.4900359359686377"
      ]
     },
     "execution_count": 132,
     "metadata": {},
     "output_type": "execute_result"
    }
   ],
   "source": [
    "np.mean(predicted == test_targets)  "
   ]
  },
  {
   "cell_type": "markdown",
   "metadata": {},
   "source": [
    "## HDP"
   ]
  },
  {
   "cell_type": "code",
   "execution_count": 139,
   "metadata": {},
   "outputs": [],
   "source": [
    "def get_vec_f(fname, labels, dct=None, hdp=None):\n",
    "    docs, targets = build_docs(fname, labels)\n",
    "    docs = [[str(o) for o in one] for one in docs]\n",
    "    \n",
    "    if dct is None: # train set\n",
    "        dct = Dictionary(train_docs)\n",
    "        for one in docs:\n",
    "            dct.add_documents([[str(o) for o in one]])\n",
    "            \n",
    "    copus = [dct.doc2bow(o) for o in docs]\n",
    "    if hdp is None: # train\n",
    "        hdp = HdpModel(copus, dct)\n",
    "        \n",
    "    v = [hdp[o] for o in copus]\n",
    "    v_d = matutils.corpus2dense(v, num_terms=len(dct.token2id)).T\n",
    "    \n",
    "    return copus, v_d, targets, dct, hdp"
   ]
  },
  {
   "cell_type": "code",
   "execution_count": 73,
   "metadata": {},
   "outputs": [],
   "source": [
    "train_docs, train_targets = build_docs(fname_train, labels_train)"
   ]
  },
  {
   "cell_type": "code",
   "execution_count": 74,
   "metadata": {},
   "outputs": [],
   "source": [
    "test_docs, test_targets = build_docs(fname_test, labels_test)"
   ]
  },
  {
   "cell_type": "code",
   "execution_count": 77,
   "metadata": {},
   "outputs": [],
   "source": [
    "train_docs = [[str(o) for o in one] for one in train_docs]\n",
    "test_docs = [[str(o) for o in one] for one in test_docs]"
   ]
  },
  {
   "cell_type": "code",
   "execution_count": 75,
   "metadata": {},
   "outputs": [],
   "source": [
    "dct = Dictionary(train_docs)"
   ]
  },
  {
   "cell_type": "code",
   "execution_count": 76,
   "metadata": {},
   "outputs": [],
   "source": [
    "for one in train_docs:\n",
    "    dct.add_documents([[str(o) for o in one]])"
   ]
  },
  {
   "cell_type": "code",
   "execution_count": 78,
   "metadata": {},
   "outputs": [],
   "source": [
    "copus = [dct.doc2bow(o) for o in train_docs]"
   ]
  },
  {
   "cell_type": "code",
   "execution_count": 80,
   "metadata": {},
   "outputs": [],
   "source": [
    "hdp = HdpModel(copus, dct)"
   ]
  },
  {
   "cell_type": "code",
   "execution_count": 99,
   "metadata": {},
   "outputs": [
    {
     "data": {
      "text/plain": [
       "150"
      ]
     },
     "execution_count": 99,
     "metadata": {},
     "output_type": "execute_result"
    }
   ],
   "source": [
    "len(hdp.get_topics())"
   ]
  },
  {
   "cell_type": "code",
   "execution_count": 82,
   "metadata": {},
   "outputs": [
    {
     "data": {
      "text/plain": [
       "[(8, 0.7347021583895617), (46, 0.1441341423208861), (79, 0.11680245565832961)]"
      ]
     },
     "execution_count": 82,
     "metadata": {},
     "output_type": "execute_result"
    }
   ],
   "source": [
    "hdp[copus[1]]"
   ]
  },
  {
   "cell_type": "code",
   "execution_count": 83,
   "metadata": {},
   "outputs": [],
   "source": [
    "vectors = [hdp[o] for o in copus]"
   ]
  },
  {
   "cell_type": "code",
   "execution_count": 91,
   "metadata": {},
   "outputs": [
    {
     "data": {
      "text/plain": [
       "(12223, 12223)"
      ]
     },
     "execution_count": 91,
     "metadata": {},
     "output_type": "execute_result"
    }
   ],
   "source": [
    "len(vectors), len(train_targets)"
   ]
  },
  {
   "cell_type": "code",
   "execution_count": 95,
   "metadata": {},
   "outputs": [
    {
     "data": {
      "text/plain": [
       "[[(3, 0.46183658830517704),\n",
       "  (26, 0.10384062750052449),\n",
       "  (89, 0.06240996670190984),\n",
       "  (128, 0.1699017207216343),\n",
       "  (136, 0.0854548720815281),\n",
       "  (138, 0.08636650952394877),\n",
       "  (148, 0.02410010896361052)],\n",
       " [(8, 0.7347021583895617),\n",
       "  (46, 0.1441341423208861),\n",
       "  (79, 0.11680245565832961)],\n",
       " [(1, 0.5838619553442171),\n",
       "  (46, 0.05318602792629546),\n",
       "  (99, 0.2291244361167196),\n",
       "  (101, 0.03952411922636785),\n",
       "  (111, 0.08837481488811819)]]"
      ]
     },
     "execution_count": 95,
     "metadata": {},
     "output_type": "execute_result"
    }
   ],
   "source": [
    "vectors[:3]"
   ]
  },
  {
   "cell_type": "code",
   "execution_count": 92,
   "metadata": {},
   "outputs": [],
   "source": [
    "tf_sparse_array = matutils.corpus2csc(vectors)"
   ]
  },
  {
   "cell_type": "code",
   "execution_count": 104,
   "metadata": {},
   "outputs": [
    {
     "data": {
      "text/plain": [
       "(12223, 300)"
      ]
     },
     "execution_count": 104,
     "metadata": {},
     "output_type": "execute_result"
    }
   ],
   "source": [
    "a = matutils.corpus2dense(vectors, num_terms=len(dct.token2id))\n",
    "a.T.shape"
   ]
  },
  {
   "cell_type": "code",
   "execution_count": 107,
   "metadata": {},
   "outputs": [],
   "source": [
    "# testing\n",
    "test_data = [dct.doc2bow(o) for o in test_docs]"
   ]
  },
  {
   "cell_type": "code",
   "execution_count": 108,
   "metadata": {},
   "outputs": [
    {
     "data": {
      "text/plain": [
       "[(0, 0.6753637283283193), (10, 0.3200522183522646)]"
      ]
     },
     "execution_count": 108,
     "metadata": {},
     "output_type": "execute_result"
    }
   ],
   "source": [
    "hdp[test_data[0]]"
   ]
  },
  {
   "cell_type": "code",
   "execution_count": 109,
   "metadata": {},
   "outputs": [],
   "source": [
    "test_vectors = [hdp[o] for o in test_data]"
   ]
  },
  {
   "cell_type": "code",
   "execution_count": 110,
   "metadata": {},
   "outputs": [],
   "source": [
    "testdense = matutils.corpus2dense(test_vectors, num_terms=len(dct.token2id)).T"
   ]
  },
  {
   "cell_type": "code",
   "execution_count": 140,
   "metadata": {},
   "outputs": [],
   "source": [
    "train_copus, train_v, train_targets, dct, hdp = get_vec_f(fname_train, labels_train)"
   ]
  },
  {
   "cell_type": "code",
   "execution_count": 141,
   "metadata": {},
   "outputs": [],
   "source": [
    "test_copus, test_v, test_targets, dct, hdp = get_vec_f(fname_test, labels_test, dct, hdp)"
   ]
  },
  {
   "cell_type": "code",
   "execution_count": null,
   "metadata": {},
   "outputs": [],
   "source": [
    "clf2 = MultinomialNB().fit(train_v, train_targets)\n",
    "predicted = clf2.predict(test_v)\n",
    "np.mean(predicted == test_targets) "
   ]
  },
  {
   "cell_type": "code",
   "execution_count": 143,
   "metadata": {},
   "outputs": [
    {
     "data": {
      "text/plain": [
       "0.3982358706305129"
      ]
     },
     "execution_count": 143,
     "metadata": {},
     "output_type": "execute_result"
    }
   ],
   "source": [
    "clf2 = sklearn.svm.SVC(gamma='scale', coef0=4).fit(train_v, train_targets)\n",
    "predicted = clf2.predict(test_v)\n",
    "np.mean(predicted == test_targets) "
   ]
  },
  {
   "cell_type": "markdown",
   "metadata": {},
   "source": [
    "### result for NB"
   ]
  },
  {
   "cell_type": "code",
   "execution_count": 106,
   "metadata": {},
   "outputs": [],
   "source": [
    "clf = MultinomialNB().fit(a.T, train_targets)"
   ]
  },
  {
   "cell_type": "code",
   "execution_count": 111,
   "metadata": {},
   "outputs": [],
   "source": [
    "t_predict = clf.predict(testdense)"
   ]
  },
  {
   "cell_type": "code",
   "execution_count": 112,
   "metadata": {},
   "outputs": [
    {
     "data": {
      "text/plain": [
       "array([4, 4, 4, ..., 4, 4, 4])"
      ]
     },
     "execution_count": 112,
     "metadata": {},
     "output_type": "execute_result"
    }
   ],
   "source": [
    "t_predict"
   ]
  },
  {
   "cell_type": "code",
   "execution_count": 113,
   "metadata": {},
   "outputs": [
    {
     "data": {
      "text/plain": [
       "0.4024828487422411"
      ]
     },
     "execution_count": 113,
     "metadata": {},
     "output_type": "execute_result"
    }
   ],
   "source": [
    "np.mean(t_predict == test_targets)  "
   ]
  },
  {
   "cell_type": "markdown",
   "metadata": {},
   "source": [
    "### result for SVM"
   ]
  },
  {
   "cell_type": "code",
   "execution_count": 133,
   "metadata": {},
   "outputs": [],
   "source": [
    "clf1 = sklearn.svm.SVC(gamma='scale', coef0=4).fit(a.T, train_targets)"
   ]
  },
  {
   "cell_type": "code",
   "execution_count": 134,
   "metadata": {},
   "outputs": [],
   "source": [
    "t_predict = clf1.predict(testdense)"
   ]
  },
  {
   "cell_type": "code",
   "execution_count": 135,
   "metadata": {},
   "outputs": [
    {
     "data": {
      "text/plain": [
       "0.4122835674616139"
      ]
     },
     "execution_count": 135,
     "metadata": {},
     "output_type": "execute_result"
    }
   ],
   "source": [
    "np.mean(t_predict == test_targets)"
   ]
  },
  {
   "cell_type": "code",
   "execution_count": null,
   "metadata": {},
   "outputs": [],
   "source": []
  }
 ],
 "metadata": {
  "kernelspec": {
   "display_name": "Python 3",
   "language": "python",
   "name": "python3"
  },
  "language_info": {
   "codemirror_mode": {
    "name": "ipython",
    "version": 3
   },
   "file_extension": ".py",
   "mimetype": "text/x-python",
   "name": "python",
   "nbconvert_exporter": "python",
   "pygments_lexer": "ipython3",
   "version": "3.6.7"
  }
 },
 "nbformat": 4,
 "nbformat_minor": 2
}
